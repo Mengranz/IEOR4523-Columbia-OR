{
 "cells": [
  {
   "cell_type": "markdown",
   "metadata": {},
   "source": [
    "<h1>Problem 1: Part 1</h1>"
   ]
  },
  {
   "cell_type": "code",
   "execution_count": 1,
   "metadata": {
    "collapsed": true
   },
   "outputs": [],
   "source": [
    "def preceding(char):\n",
    "     #Your code will figure out what the value of coded_char should be\n",
    "    if ord(char) == 65 or ord(char) == 97:\n",
    "        neword = ord(char) + 25\n",
    "    elif ord(char) in range(66,91):\n",
    "        neword = ord(char) - 1\n",
    "    elif ord(char) in range(98,123):\n",
    "        neword = ord(char) - 1\n",
    "    else:\n",
    "        neword = ord(char)\n",
    "    \n",
    "    coded_char = str(chr(neword))\n",
    "    \n",
    "    \n",
    "    return coded_char"
   ]
  },
  {
   "cell_type": "code",
   "execution_count": 2,
   "metadata": {},
   "outputs": [
    {
     "name": "stdout",
     "output_type": "stream",
     "text": [
      "z\n",
      "a\n",
      "!\n"
     ]
    }
   ],
   "source": [
    "print(preceding('a')) #Should print z\n",
    "print(preceding('b')) #Should print a\n",
    "print(preceding('!')) #Should print !"
   ]
  },
  {
   "cell_type": "markdown",
   "metadata": {},
   "source": [
    "<h1>Problem 1: Part 2</h1>\n"
   ]
  },
  {
   "cell_type": "code",
   "execution_count": 3,
   "metadata": {
    "collapsed": true
   },
   "outputs": [],
   "source": [
    "def succeeding(char):\n",
    "     #Your code will figure out what the value of coded_char should be\n",
    "    if ord(char) == 90 or ord(char) == 122:\n",
    "        neword = ord(char) - 25\n",
    "    elif ord(char) in range(65,90):\n",
    "        neword = ord(char) + 1\n",
    "    elif ord(char) in range(97,122):\n",
    "        neword = ord(char) + 1\n",
    "    else:\n",
    "        neword = ord(char)\n",
    "    \n",
    "    coded_char = str(chr(neword))\n",
    "    \n",
    "    \n",
    "    return coded_char    "
   ]
  },
  {
   "cell_type": "code",
   "execution_count": 4,
   "metadata": {},
   "outputs": [
    {
     "name": "stdout",
     "output_type": "stream",
     "text": [
      "a\n",
      "c\n",
      "!\n"
     ]
    }
   ],
   "source": [
    "print(succeeding('z')) #Should print a\n",
    "print(succeeding('b')) #Should print c\n",
    "print(succeeding('!')) #Should print !"
   ]
  },
  {
   "cell_type": "markdown",
   "metadata": {},
   "source": [
    "<h1>Problem 1: Part 3</h1>"
   ]
  },
  {
   "cell_type": "code",
   "execution_count": 5,
   "metadata": {
    "collapsed": true
   },
   "outputs": [],
   "source": [
    "def message_coder(message_string,function):\n",
    "    \n",
    "    coded_message =''\n",
    "    \n",
    "    for c in message_string:\n",
    "        new_c = function(c)\n",
    "        coded_message += new_c\n",
    "    \n",
    "    \n",
    "    return coded_message"
   ]
  },
  {
   "cell_type": "code",
   "execution_count": 6,
   "metadata": {},
   "outputs": [
    {
     "name": "stdout",
     "output_type": "stream",
     "text": [
      "gdkkn cnkkx ydaqz!\n",
      "ifmmp epmmz afcsb!\n"
     ]
    }
   ],
   "source": [
    "print(message_coder('hello dolly zebra!',preceding))# prints 'gdkkn cnkkx ydaqz!’\n",
    "\n",
    "print(message_coder('hello dolly zebra!',succeeding))# prints 'ifmmp epmmz afcsb!’\n"
   ]
  },
  {
   "cell_type": "markdown",
   "metadata": {},
   "source": [
    "<h1>Problem 2: Word Count</h2>"
   ]
  },
  {
   "cell_type": "code",
   "execution_count": 7,
   "metadata": {
    "collapsed": true
   },
   "outputs": [],
   "source": [
    "def word_distribution(text_string,word_list=[]):\n",
    "    \n",
    "    frequency_dict = dict()\n",
    "    \n",
    "    #split text\n",
    "    text_split = text_string.split()\n",
    "    \n",
    "    #lower case\n",
    "    text_list = list()\n",
    "    for t in text_split:\n",
    "        lt = t.lower()\n",
    "        text_list.append(lt)\n",
    "    \n",
    "    #punctuation \n",
    "    new_text_list = list()\n",
    "    for c in text_list:\n",
    "        if ord(c[-1]) not in range (65,91) and ord(c[-1]) not in range (97,122):\n",
    "            newc = c[:-1]\n",
    "        else:\n",
    "            newc = c\n",
    "        new_text_list.append(newc)\n",
    "    \n",
    "    #count number\n",
    "    for i in new_text_list:\n",
    "        if not frequency_dict.get(i) :\n",
    "            frequency_dict[i] = 1\n",
    "        else:\n",
    "            frequency_dict[i] = frequency_dict[i] + 1\n",
    "    \n",
    "    #word_dict\n",
    "    word_dict = dict()\n",
    "    \n",
    "    if not word_list:\n",
    "        word_dict = frequency_dict\n",
    "    else:\n",
    "        for w in word_list:\n",
    "            if not frequency_dict.get(w.lower()):\n",
    "                word_dict[w.lower()] = 0\n",
    "            else:\n",
    "                word_dict[w.lower()] = frequency_dict[w.lower()]\n",
    "            \n",
    "    return word_dict\n",
    "    \n",
    "\n"
   ]
  },
  {
   "cell_type": "code",
   "execution_count": 8,
   "metadata": {},
   "outputs": [
    {
     "name": "stdout",
     "output_type": "stream",
     "text": [
      "{'hello': 2, 'how': 1, 'are': 1, 'you': 2, 'please': 1, 'say': 1, 'if': 1, 'don’t': 1, 'love': 1, 'me': 1}\n"
     ]
    }
   ],
   "source": [
    "text_string = \"Hello. How are you? Please say hello if you don’t love me!\"\n",
    "print(word_distribution(text_string)) #should print {‘hello’: 2, ‘how’:1, ‘are’:1, ‘you’:2,’please’:1, “don’t”: 1 …}\n"
   ]
  },
  {
   "cell_type": "code",
   "execution_count": 9,
   "metadata": {},
   "outputs": [
    {
     "name": "stdout",
     "output_type": "stream",
     "text": [
      "{'i': 3, 'saw': 1, 'britain': 0}\n"
     ]
    }
   ],
   "source": [
    "text_string = 'I came, I saw, I conquered!'\n",
    "print(word_distribution(text_string,word_list=['I','saw','Britain'])) # prints {‘i’:3,’saw’:1,’britain':0}\n"
   ]
  },
  {
   "cell_type": "code",
   "execution_count": null,
   "metadata": {
    "collapsed": true
   },
   "outputs": [],
   "source": []
  }
 ],
 "metadata": {
  "kernelspec": {
   "display_name": "Python 3",
   "language": "python",
   "name": "python3"
  },
  "language_info": {
   "codemirror_mode": {
    "name": "ipython",
    "version": 3
   },
   "file_extension": ".py",
   "mimetype": "text/x-python",
   "name": "python",
   "nbconvert_exporter": "python",
   "pygments_lexer": "ipython3",
   "version": "3.6.3"
  },
  "varInspector": {
   "cols": {
    "lenName": 16,
    "lenType": 16,
    "lenVar": 40
   },
   "kernels_config": {
    "python": {
     "delete_cmd_postfix": "",
     "delete_cmd_prefix": "del ",
     "library": "var_list.py",
     "varRefreshCmd": "print(var_dic_list())"
    },
    "r": {
     "delete_cmd_postfix": ") ",
     "delete_cmd_prefix": "rm(",
     "library": "var_list.r",
     "varRefreshCmd": "cat(var_dic_list()) "
    }
   },
   "types_to_exclude": [
    "module",
    "function",
    "builtin_function_or_method",
    "instance",
    "_Feature"
   ],
   "window_display": false
  }
 },
 "nbformat": 4,
 "nbformat_minor": 2
}
