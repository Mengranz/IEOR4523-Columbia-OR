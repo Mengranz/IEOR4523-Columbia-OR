{
 "cells": [
  {
   "cell_type": "markdown",
   "metadata": {},
   "source": [
    "<h1>Problem 1: Factorials using numpy</h1>\n",
    "<li><b>prod</b> A numpy function that returns the product of all elements in an array\n",
    "<li><b>cumprod</b> A numpy function on an ndarray of size n that returns an array of size n where each element i is the product of all elements from 0 to i\n"
   ]
  },
  {
   "cell_type": "code",
   "execution_count": 2,
   "metadata": {
    "collapsed": true
   },
   "outputs": [],
   "source": [
    "\"\"\"\n",
    "Replace pass with the code that uses ndarray, prod and cumprod \n",
    "to calculate the factorial of n\n",
    "\n",
    "The function should take an integer as an argument and return an integer\n",
    "\n",
    "\"\"\"\n",
    "\n",
    "\n",
    "def factorial(n):\n",
    "    import numpy as np\n",
    "    if n == 0:\n",
    "        return 1\n",
    "    elif n < 0:\n",
    "        return \"cannot be a negative number\"\n",
    "    else:\n",
    "        fa = np.arange(1, n+1)\n",
    "        return np.prod(fa)"
   ]
  },
  {
   "cell_type": "code",
   "execution_count": 6,
   "metadata": {},
   "outputs": [
    {
     "data": {
      "text/plain": [
       "120"
      ]
     },
     "execution_count": 6,
     "metadata": {},
     "output_type": "execute_result"
    }
   ],
   "source": [
    "factorial(5)"
   ]
  },
  {
   "cell_type": "code",
   "execution_count": 15,
   "metadata": {
    "collapsed": true
   },
   "outputs": [],
   "source": [
    "\"\"\"\n",
    "Replace pass with the code that uses ndarray, prod and cumprod to \n",
    "calculate the factorials of all values from 1 to n\n",
    "\n",
    "The function should take an integer as an argument and return an ndarray\n",
    "of size n \n",
    "\n",
    "\"\"\"\n",
    "\n",
    "def all_factorials(n):\n",
    "    import numpy as np\n",
    "    if n == 0:\n",
    "        return 1\n",
    "    elif n < 0:\n",
    "        return \"cannot be a negative number\"\n",
    "    else:\n",
    "        fa = np.arange(1,n+1)\n",
    "        return np.cumprod(fa)"
   ]
  },
  {
   "cell_type": "code",
   "execution_count": 16,
   "metadata": {},
   "outputs": [
    {
     "data": {
      "text/plain": [
       "array([  1,   2,   6,  24, 120])"
      ]
     },
     "execution_count": 16,
     "metadata": {},
     "output_type": "execute_result"
    }
   ],
   "source": [
    "all_factorials(5)"
   ]
  },
  {
   "cell_type": "markdown",
   "metadata": {},
   "source": [
    "<h1>Problem 2: Percent changes</h1>\n",
    "Write a function that constructs an ndarray from data in a file and \n",
    "returns a 1-period percent change on an ndarray after removing any nan values. Your function must make use of the following functions:\n",
    "<li>np.genfromtxt: https://docs.scipy.org/doc/numpy-1.13.0/reference/generated/numpy.genfromtxt.html\n",
    "<li>np.diff: https://docs.scipy.org/doc/numpy-1.13.0/reference/generated/numpy.diff.html\n",
    "<li>np.isnan: https://docs.scipy.org/doc/numpy-1.13.0/reference/generated/numpy.isnan.html\n",
    "\n",
    "<p>Test your function out using the attached apple.csv file. Your function can assume that the file structure is (date,price)\n",
    "\n",
    "<p>Note that percent change is defined as (p(t)-p(t-1))/p(t-1)\n",
    "\n",
    "<b>Example:</b><br>\n",
    "If the data array is: np.array([1,2,np.NaN,4,8,np.NAN])\n",
    "<br>\n",
    "The output array should be<br>\n",
    "array([ 1.,  1.,  1.])\n"
   ]
  },
  {
   "cell_type": "code",
   "execution_count": 7,
   "metadata": {
    "collapsed": true
   },
   "outputs": [],
   "source": [
    "def get_pct_changes(file_name):\n",
    "    import numpy as np\n",
    "    data = np.genfromtxt(file_name,delimiter=\",\")\n",
    "    data_c = data[np.logical_not(np.isnan(data))]\n",
    "    change = np.diff(data_c)/data_c[:-1]\n",
    "    return change\n",
    "    "
   ]
  },
  {
   "cell_type": "code",
   "execution_count": 9,
   "metadata": {},
   "outputs": [
    {
     "data": {
      "text/plain": [
       "array([-0.05217305, -0.07339571,  0.02475207, ..., -0.00977899,\n",
       "       -0.00882215,  0.01720356])"
      ]
     },
     "execution_count": 9,
     "metadata": {},
     "output_type": "execute_result"
    }
   ],
   "source": [
    "get_pct_changes('apple.csv')"
   ]
  },
  {
   "cell_type": "markdown",
   "metadata": {},
   "source": [
    "<h1>Problem 3: Pandas Grouping</h1>\n",
    "Write a program that reads timeseries pricing data from a file into a pandas dataframe and then groups the data as follows:\n",
    "<li>Adds a column, one-day percent change to the file \n",
    "<li>Groups the data into four categories:\n",
    "<ul>\n",
    "<li>\"High+\" if the percent change is greater than 2.5%\n",
    "<li>\"Low+\" if the percent change is positive and less than or equal to 2.5% \n",
    "<li>\"Low-\" if the percent change is negative but greater than or equal to -2.5%\n",
    "<li>\"High-\" if the percent change is less than -2.5%\n",
    "</ul>\n",
    "<li>Report the size and the mean of each of the groups\n",
    "\n"
   ]
  },
  {
   "cell_type": "code",
   "execution_count": 22,
   "metadata": {},
   "outputs": [
    {
     "data": {
      "text/plain": [
       "High+    1391\n",
       "High-    1210\n",
       "Low+     3535\n",
       "Low-     3140\n",
       "dtype: int64"
      ]
     },
     "execution_count": 22,
     "metadata": {},
     "output_type": "execute_result"
    }
   ],
   "source": [
    "datafile = \"apple.csv\"\n",
    "import pandas as pd\n",
    "import numpy as np\n",
    "\n",
    "df = pd.read_csv('apple.csv',na_values='null')\n",
    "df['One-day Percent Change'] = df[\"Adj Close\"].pct_change()\n",
    "\n",
    "def GroupbyCat (df, ind, col):\n",
    "    if df[col].loc[ind] > 0.025:\n",
    "        return 'High+'\n",
    "    elif df[col].loc[ind] >= 0:\n",
    "        return 'Low+'\n",
    "    elif df[col].loc[ind] >= -0.025:\n",
    "        return 'Low-'\n",
    "    elif df[col].loc[ind] < -0.025:\n",
    "        return 'High-'\n",
    "    else:\n",
    "        return None\n",
    "\n",
    "groupchg = df.groupby(lambda x: GroupbyCat(df,x, 'One-day Percent Change'))\n",
    "groupchg.size()\n"
   ]
  },
  {
   "cell_type": "code",
   "execution_count": 25,
   "metadata": {},
   "outputs": [
    {
     "data": {
      "text/html": [
       "<div>\n",
       "<style>\n",
       "    .dataframe thead tr:only-child th {\n",
       "        text-align: right;\n",
       "    }\n",
       "\n",
       "    .dataframe thead th {\n",
       "        text-align: left;\n",
       "    }\n",
       "\n",
       "    .dataframe tbody tr th {\n",
       "        vertical-align: top;\n",
       "    }\n",
       "</style>\n",
       "<table border=\"1\" class=\"dataframe\">\n",
       "  <thead>\n",
       "    <tr style=\"text-align: right;\">\n",
       "      <th></th>\n",
       "      <th>Adj Close</th>\n",
       "      <th>One-day Percent Change</th>\n",
       "    </tr>\n",
       "  </thead>\n",
       "  <tbody>\n",
       "    <tr>\n",
       "      <th>High+</th>\n",
       "      <td>8.331002</td>\n",
       "      <td>0.045705</td>\n",
       "    </tr>\n",
       "    <tr>\n",
       "      <th>High-</th>\n",
       "      <td>8.740214</td>\n",
       "      <td>-0.044232</td>\n",
       "    </tr>\n",
       "    <tr>\n",
       "      <th>Low+</th>\n",
       "      <td>23.528533</td>\n",
       "      <td>0.009882</td>\n",
       "    </tr>\n",
       "    <tr>\n",
       "      <th>Low-</th>\n",
       "      <td>24.385841</td>\n",
       "      <td>-0.011171</td>\n",
       "    </tr>\n",
       "  </tbody>\n",
       "</table>\n",
       "</div>"
      ],
      "text/plain": [
       "       Adj Close  One-day Percent Change\n",
       "High+   8.331002                0.045705\n",
       "High-   8.740214               -0.044232\n",
       "Low+   23.528533                0.009882\n",
       "Low-   24.385841               -0.011171"
      ]
     },
     "execution_count": 25,
     "metadata": {},
     "output_type": "execute_result"
    }
   ],
   "source": [
    "groupchg.mean()"
   ]
  },
  {
   "cell_type": "code",
   "execution_count": null,
   "metadata": {
    "collapsed": true
   },
   "outputs": [],
   "source": []
  }
 ],
 "metadata": {
  "kernelspec": {
   "display_name": "Python 3",
   "language": "python",
   "name": "python3"
  },
  "language_info": {
   "codemirror_mode": {
    "name": "ipython",
    "version": 3
   },
   "file_extension": ".py",
   "mimetype": "text/x-python",
   "name": "python",
   "nbconvert_exporter": "python",
   "pygments_lexer": "ipython3",
   "version": "3.6.1"
  },
  "varInspector": {
   "cols": {
    "lenName": 16,
    "lenType": 16,
    "lenVar": 40
   },
   "kernels_config": {
    "python": {
     "delete_cmd_postfix": "",
     "delete_cmd_prefix": "del ",
     "library": "var_list.py",
     "varRefreshCmd": "print(var_dic_list())"
    },
    "r": {
     "delete_cmd_postfix": ") ",
     "delete_cmd_prefix": "rm(",
     "library": "var_list.r",
     "varRefreshCmd": "cat(var_dic_list()) "
    }
   },
   "types_to_exclude": [
    "module",
    "function",
    "builtin_function_or_method",
    "instance",
    "_Feature"
   ],
   "window_display": false
  }
 },
 "nbformat": 4,
 "nbformat_minor": 2
}
