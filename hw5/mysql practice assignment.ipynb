{
 "cells": [
  {
   "cell_type": "markdown",
   "metadata": {},
   "source": [
    "<h1>A portfolio pricing program</h1>"
   ]
  },
  {
   "cell_type": "markdown",
   "metadata": {},
   "source": [
    "In this assignment, you will write a <span style=\"color:blue\">portfolio pricing program</span>. The portfolio sits in the database <span style=\"color:blue\">portfolio</span>. The database contains two tables: <span style=\"color:blue\">stocks</span> and <span style=\"color:blue\">holdings</span>. \n",
    "<p>\n",
    "Currently, the data sits in a txt file <span style=\"color:blue\">portfolio.txt</span> The code in the next two cells reads this file, creates the database and the tables, and populates them with the data. Experiment with querying the database to get a sense for the (simple!) structure of the database\n",
    "<p>\n",
    "You need to do the following:\n",
    "<li>Run the code that creates the database (make sure that portfolio.txt is in the same directory as this program\n",
    "<li>Write a function that calculates the net pnl (gain) on each stock in the portfolio\n",
    "<p>\n",
    "Python is a particularly good environment for working with multiple data sources and the purpose of this assignment is to get some practice combining data doing just that. I've done most of the work for you (setting up the database) but take a look at that code as well and play around with it a bit."
   ]
  },
  {
   "cell_type": "markdown",
   "metadata": {},
   "source": [
    "<h1>Create the database and set up a db and cursor object</h1>"
   ]
  },
  {
   "cell_type": "code",
   "execution_count": 1,
   "metadata": {},
   "outputs": [
    {
     "data": {
      "text/plain": [
       "0"
      ]
     },
     "execution_count": 1,
     "metadata": {},
     "output_type": "execute_result"
    }
   ],
   "source": [
    "import pymysql\n",
    "name = 'portfolio'\n",
    "db = pymysql.connect(\"localhost\",\"root\",\"mrjybHAHAHA\" )\n",
    "cursor = db.cursor()\n",
    "query = 'DROP DATABASE IF EXISTS ' + name + ';'\n",
    "cursor.execute(query)\n",
    "query = \"CREATE DATABASE IF NOT EXISTS \" + name + ';'\n",
    "cursor.execute(query)\n",
    "query = \"USE \" + name + ';'\n",
    "cursor.execute(query)\n",
    "\n"
   ]
  },
  {
   "cell_type": "markdown",
   "metadata": {},
   "source": [
    "<h2>Read portfolio.txt and create the two tables stocks and holdings</h2>"
   ]
  },
  {
   "cell_type": "code",
   "execution_count": 2,
   "metadata": {},
   "outputs": [
    {
     "name": "stderr",
     "output_type": "stream",
     "text": [
      "/anaconda/lib/python3.6/site-packages/pymysql/cursors.py:166: Warning: (1051, \"Unknown table 'portfolio.stocks'\")\n",
      "  result = self._query(query)\n",
      "/anaconda/lib/python3.6/site-packages/pymysql/cursors.py:166: Warning: (1051, \"Unknown table 'portfolio.holdings'\")\n",
      "  result = self._query(query)\n"
     ]
    }
   ],
   "source": [
    "\n",
    "file = \"portfolio.txt\"\n",
    "with open(file,'r') as f:\n",
    "    line_count = 0\n",
    "    stocks_set = set()\n",
    "    for line in f:\n",
    "        line = line.strip()\n",
    "\n",
    "        if line_count == 0:\n",
    "            headers = line.split(':')\n",
    "            headers = [x.replace(' ','_') for x in headers]\n",
    "            query1 = \"DROP TABLE IF EXISTS stocks;\"\n",
    "            query2 = \"DROP TABLE IF EXISTS holdings\"\n",
    "            cursor.execute(query1)\n",
    "            cursor.execute(query2)\n",
    "            query1 = \"CREATE TABLE IF NOT EXISTS stocks (\"\n",
    "            query1 += headers[0] + \" VARCHAR(10),\"\n",
    "            query1 += headers[1] + \" VARCHAR(30));\"\n",
    "            query2 = \"CREATE TABLE IF NOT EXISTS holdings (\"\n",
    "            query2 += headers[0] + \" VARCHAR(10),\"\n",
    "            query2 += headers[2] + \" DECIMAL(10,2),\"\n",
    "            query2 += headers[3] + \" INT,\"\n",
    "            query2 += headers[4] + \" DATE);\"\n",
    "            cursor.execute(query1)\n",
    "            cursor.execute(query2)\n",
    "            line_count += 1\n",
    "            continue        \n",
    "        data = line.split(':')\n",
    "        stock_info = (data[0],data[1])\n",
    "        stocks_set.add(stock_info)\n",
    "        holdings_query = 'INSERT INTO holdings VALUES (\"'\n",
    "        holdings_query +=data[0] + '\",'\n",
    "        holdings_query +=data[2] + ','\n",
    "        holdings_query +=data[3] + ',\"'\n",
    "        holdings_query +=data[4] + '\");'\n",
    "        cursor.execute(holdings_query)\n",
    "for s_info in stocks_set:\n",
    "    stock_query = 'INSERT INTO stocks VALUES (\"'\n",
    "    stock_query += s_info[0] + '\",\"'\n",
    "    stock_query += s_info[1] +'\");'\n",
    "    cursor.execute(stock_query)\n",
    "db.commit()\n",
    "db.close()"
   ]
  },
  {
   "cell_type": "markdown",
   "metadata": {},
   "source": [
    "<h2>Write a function that calculates the dollar gain for each stock</h2>\n",
    "Your function should return a dictionary with the company name as the key and the gain as the value. For example, for the given data set, and stock prices at the close of 9/27/2017, the function should return (your actual gains will be different because stock prices do change!):\n",
    "<p>\n",
    "{<br>\n",
    "'Alphabet, Inc.': -3105.0,<br>\n",
    " 'Apple, Inc.': 60110.0,<br>\n",
    " 'General Electric': 12095.0,<br>\n",
    " 'Goldman Sachs': 112416.5<br>\n",
    "}\n",
    "<p>\n",
    "Notes:\n",
    "<li>Write a function get_price(ticker) that gets the current stock price from the google finance page\n",
    "<li>You'll need to use a JOIN to combine the two tables in the database\n",
    "<li>cursor.execute returns DECIMAL and INT types. Convert these into float and int\n",
    "<li>gain = price_now * share - purchase_price * shares. You need to accumulate these values for each stock\n",
    "\n",
    " \n",
    " "
   ]
  },
  {
   "cell_type": "code",
   "execution_count": 3,
   "metadata": {
    "collapsed": true
   },
   "outputs": [],
   "source": [
    "def get_pnl():\n",
    "    import pymysql\n",
    "    db = pymysql.connect(\"localhost\",\"root\",\"mrjybHAHAHA\" )\n",
    "    gain_dict = dict()\n",
    "    cursor = db.cursor()\n",
    "    query = \"\"\"\n",
    "    use portfolio\n",
    "    \"\"\"\n",
    "    cursor.execute(query)\n",
    "    query = \"\"\"\n",
    "    select * FROM holdings\n",
    "    INNER JOIN stocks ON holdings.Ticker = stocks.Ticker\n",
    "    \"\"\"\n",
    "    cursor.execute(query)\n",
    "    table1 = cursor.fetchall()\n",
    "    \n",
    "    table_calc = []\n",
    "    for x in table1:\n",
    "        result = round((float(get_price(x[0])) - float(x[1])) * float(x[2]),1)\n",
    "        table_calc.append((x[5], result))\n",
    "        \n",
    "    for z in table_calc:\n",
    "        if gain_dict.get(z[0]) == None:\n",
    "            gain_dict[z[0]] = z[1]\n",
    "        else:\n",
    "            gain_dict[z[0]] += z[1]\n",
    "            \n",
    "    return gain_dict"
   ]
  },
  {
   "cell_type": "code",
   "execution_count": 5,
   "metadata": {},
   "outputs": [
    {
     "data": {
      "text/plain": [
       "{'Alphabet, Inc.': 20650.0,\n",
       " 'Apple, Inc.': 62935.0,\n",
       " 'General Electric': 11590.0,\n",
       " 'Goldman Sachs': 125804.0}"
      ]
     },
     "execution_count": 5,
     "metadata": {},
     "output_type": "execute_result"
    }
   ],
   "source": [
    "get_pnl()"
   ]
  },
  {
   "cell_type": "markdown",
   "metadata": {},
   "source": [
    "<h2>Write a function that - given a ticker - get's the current price from google finance</h2>\n",
    "Explore the html code at url below to figure out how to get the current price of the stock"
   ]
  },
  {
   "cell_type": "code",
   "execution_count": 4,
   "metadata": {},
   "outputs": [
    {
     "data": {
      "text/plain": [
       "'159.88'"
      ]
     },
     "execution_count": 4,
     "metadata": {},
     "output_type": "execute_result"
    }
   ],
   "source": [
    "def get_price(ticker):\n",
    "    import requests\n",
    "    from bs4 import BeautifulSoup\n",
    "    url = 'https://finance.google.com/finance?q='+ticker\n",
    "    content = requests.get(url).content.decode()\n",
    "    result = BeautifulSoup(content,'lxml')\n",
    "    price = result.find('span', class_='pr').get_text().strip('\\n')\n",
    "    #price = float(price_s)\n",
    "    #return price \n",
    "    return price\n",
    "\n",
    "#Test\n",
    "get_price('AAPL')"
   ]
  },
  {
   "cell_type": "code",
   "execution_count": null,
   "metadata": {
    "collapsed": true
   },
   "outputs": [],
   "source": [
    "print(get_pnl())\n",
    "\"\"\" RETURNS (format, values will differ):\n",
    "{'Alphabet, Inc.': -3105.0,\n",
    " 'Apple, Inc.': 60110.0,\n",
    " 'General Electric': 12095.0,\n",
    " 'Goldman Sachs': 112416.5}\n",
    "\n",
    "\"\"\""
   ]
  },
  {
   "cell_type": "code",
   "execution_count": null,
   "metadata": {
    "collapsed": true
   },
   "outputs": [],
   "source": []
  }
 ],
 "metadata": {
  "kernelspec": {
   "display_name": "Python 3",
   "language": "python",
   "name": "python3"
  },
  "language_info": {
   "codemirror_mode": {
    "name": "ipython",
    "version": 3
   },
   "file_extension": ".py",
   "mimetype": "text/x-python",
   "name": "python",
   "nbconvert_exporter": "python",
   "pygments_lexer": "ipython3",
   "version": "3.6.3"
  },
  "varInspector": {
   "cols": {
    "lenName": 16,
    "lenType": 16,
    "lenVar": 40
   },
   "kernels_config": {
    "python": {
     "delete_cmd_postfix": "",
     "delete_cmd_prefix": "del ",
     "library": "var_list.py",
     "varRefreshCmd": "print(var_dic_list())"
    },
    "r": {
     "delete_cmd_postfix": ") ",
     "delete_cmd_prefix": "rm(",
     "library": "var_list.r",
     "varRefreshCmd": "cat(var_dic_list()) "
    }
   },
   "types_to_exclude": [
    "module",
    "function",
    "builtin_function_or_method",
    "instance",
    "_Feature"
   ],
   "window_display": false
  }
 },
 "nbformat": 4,
 "nbformat_minor": 2
}
