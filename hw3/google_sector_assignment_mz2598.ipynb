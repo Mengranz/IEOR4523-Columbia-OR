{
 "cells": [
  {
   "cell_type": "markdown",
   "metadata": {},
   "source": [
    "<h2>first function</h2>\n",
    "<li>Get Sector summary table from google finance \n",
    "<li>Extract the sector name, the sector link and the sector change for each sector from the table\n",
    "<li>Put all these into a list of lists \n",
    "<li>Return the list of lists"
   ]
  },
  {
   "cell_type": "code",
   "execution_count": 18,
   "metadata": {
    "collapsed": true
   },
   "outputs": [],
   "source": [
    "#This function gets the sector change information from google finance and returns\n",
    "# a list of lists with the data\n",
    "\n",
    "            \n",
    "def get_all_sector_data():\n",
    "    import requests\n",
    "    from bs4 import BeautifulSoup\n",
    "    base_url = \"https://finance.google.com/finance\"\n",
    "    all_sector_data = list()\n",
    "    try: \n",
    "        #Your code goes here\n",
    "        result_page = BeautifulSoup(requests.get(base_url).content, 'lxml')\n",
    "        all_data_tags = result_page.find('div', id = 'secperf')\n",
    "        sec_tag = all_data_tags.find_all('a')\n",
    "        chg_tag = all_data_tags.find_all('span', class_ = ['chg', 'chr'])\n",
    "        for stag, ctag in zip(sec_tag,chg_tag):\n",
    "            link = \"https://finance.google.com\" + stag.get('href')\n",
    "            name = stag.get_text()\n",
    "            change = float(ctag.get_text().strip('+').strip('%'))\n",
    "            all_sector_data.append([name, link, change])\n",
    "        \n",
    "    except:\n",
    "        return None\n",
    "    \n",
    "    return all_sector_data\n",
    "\n"
   ]
  },
  {
   "cell_type": "code",
   "execution_count": 19,
   "metadata": {},
   "outputs": [
    {
     "data": {
      "text/plain": [
       "[['Energy',\n",
       "  'https://finance.google.com/finance?catid=TRBC:50&ei=CdPkWdHBGYqymAG9_JmoBQ',\n",
       "  0.38],\n",
       " ['Basic Materials',\n",
       "  'https://finance.google.com/finance?catid=TRBC:51&ei=CdPkWdHBGYqymAG9_JmoBQ',\n",
       "  -0.04],\n",
       " ['Industrials',\n",
       "  'https://finance.google.com/finance?catid=TRBC:52&ei=CdPkWdHBGYqymAG9_JmoBQ',\n",
       "  -0.05],\n",
       " ['Cyclical Cons. Goods ...',\n",
       "  'https://finance.google.com/finance?catid=TRBC:53&ei=CdPkWdHBGYqymAG9_JmoBQ',\n",
       "  -0.24],\n",
       " ['Non-Cyclical Cons. Goods...',\n",
       "  'https://finance.google.com/finance?catid=TRBC:54&ei=CdPkWdHBGYqymAG9_JmoBQ',\n",
       "  0.41],\n",
       " ['Financials',\n",
       "  'https://finance.google.com/finance?catid=TRBC:55&ei=CdPkWdHBGYqymAG9_JmoBQ',\n",
       "  0.09],\n",
       " ['Healthcare',\n",
       "  'https://finance.google.com/finance?catid=TRBC:56&ei=CdPkWdHBGYqymAG9_JmoBQ',\n",
       "  0.38],\n",
       " ['Technology',\n",
       "  'https://finance.google.com/finance?catid=TRBC:57&ei=CdPkWdHBGYqymAG9_JmoBQ',\n",
       "  0.16],\n",
       " ['Telecommunications Servi...',\n",
       "  'https://finance.google.com/finance?catid=TRBC:58&ei=CdPkWdHBGYqymAG9_JmoBQ',\n",
       "  0.31],\n",
       " ['Utilities',\n",
       "  'https://finance.google.com/finance?catid=TRBC:59&ei=CdPkWdHBGYqymAG9_JmoBQ',\n",
       "  -0.35]]"
      ]
     },
     "execution_count": 19,
     "metadata": {},
     "output_type": "execute_result"
    }
   ],
   "source": [
    "get_all_sector_data()"
   ]
  },
  {
   "cell_type": "markdown",
   "metadata": {},
   "source": [
    "<h2>Test it!</h2>"
   ]
  },
  {
   "cell_type": "code",
   "execution_count": null,
   "metadata": {
    "collapsed": true
   },
   "outputs": [],
   "source": [
    "get_all_sector_data()\n",
    "\"\"\" Should return (actual numbers and links will vary!)\n",
    "[('Energy',\n",
    "  'https://finance.google.com/finance?catid=TRBC:50&ei=fnPCWZiVIJCSeo3og9gF',\n",
    "  0.49),\n",
    " ('Basic Materials',\n",
    "  'https://finance.google.com/finance?catid=TRBC:51&ei=fnPCWZiVIJCSeo3og9gF',\n",
    "  0.33),\n",
    " ('Industrials',\n",
    "  'https://finance.google.com/finance?catid=TRBC:52&ei=fnPCWZiVIJCSeo3og9gF',\n",
    "  0.18),\n",
    " ('Cyclical Cons. Goods ...',\n",
    "  'https://finance.google.com/finance?catid=TRBC:53&ei=fnPCWZiVIJCSeo3og9gF',\n",
    "  0.18),\n",
    " ('Non-Cyclical Cons. Goods...',\n",
    "  'https://finance.google.com/finance?catid=TRBC:54&ei=fnPCWZiVIJCSeo3og9gF',\n",
    "  0.0),\n",
    " ('Financials',\n",
    "  'https://finance.google.com/finance?catid=TRBC:55&ei=fnPCWZiVIJCSeo3og9gF',\n",
    "  -0.05),\n",
    " ('Healthcare',\n",
    "  'https://finance.google.com/finance?catid=TRBC:56&ei=fnPCWZiVIJCSeo3og9gF',\n",
    "  0.18),\n",
    " ('Technology',\n",
    "  'https://finance.google.com/finance?catid=TRBC:57&ei=fnPCWZiVIJCSeo3og9gF',\n",
    "  -0.3),\n",
    " ('Telecommunications Servi...',\n",
    "  'https://finance.google.com/finance?catid=TRBC:58&ei=fnPCWZiVIJCSeo3og9gF',\n",
    "  0.3),\n",
    " ('Utilities',\n",
    "  'https://finance.google.com/finance?catid=TRBC:59&ei=fnPCWZiVIJCSeo3og9gF',\n",
    "  -0.02)]\n",
    "\"\"\""
   ]
  },
  {
   "cell_type": "markdown",
   "metadata": {},
   "source": [
    "<h2>Second function</h2>\n",
    "<li>Given a sector page url as an argument\n",
    "<li>The function grabs the \"Top movers\" table\n",
    "<li>Extracts the top gainer\n",
    "<li>Extracts the top loser\n",
    "<li>Returns them in a list of tuples [(gainer_name, gainer_change),(loser_name),(loser_change)]"
   ]
  },
  {
   "cell_type": "code",
   "execution_count": 3,
   "metadata": {
    "collapsed": true
   },
   "outputs": [],
   "source": [
    "def get_sector_level_data(sector_url):\n",
    "    import requests\n",
    "    from bs4 import BeautifulSoup\n",
    "    movers_list = list()\n",
    "    \n",
    "    #Your code goes here\n",
    "    sector_page = BeautifulSoup(requests.get(sector_url).content, 'lxml')\n",
    "    sec_data_tags = sector_page.find('table', class_ = 'topmovers')\n",
    "    corp_tag = sec_data_tags.find_all('a')\n",
    "    gain_name = corp_tag[0].get_text()\n",
    "    loser_name = corp_tag[10].get_text()\n",
    "    gain_chg_data_tags = sec_data_tags.find_all('span', class_= 'chg')\n",
    "    gain_chg = float(gain_chg_data_tags[1].get_text().strip('()').strip('%'))\n",
    "    loser_chg_data_tags = sec_data_tags.find_all('span', class_= 'chr')\n",
    "    loser_chg = float(loser_chg_data_tags[1].get_text().strip('()').strip('%'))\n",
    "\n",
    "    movers_list = [(gain_name, gain_chg), (loser_name, loser_chg)]\n",
    "       \n",
    "    return movers_list"
   ]
  },
  {
   "cell_type": "markdown",
   "metadata": {},
   "source": [
    "<h2>Test it!</h2>"
   ]
  },
  {
   "cell_type": "code",
   "execution_count": 4,
   "metadata": {},
   "outputs": [
    {
     "data": {
      "text/plain": [
       "[('Flotek Industries Inc', 7.31), ('Hornbeck Offshore', -5.94)]"
      ]
     },
     "execution_count": 4,
     "metadata": {},
     "output_type": "execute_result"
    }
   ],
   "source": [
    "get_sector_level_data('https://finance.google.com/finance?catid=TRBC:50&ei=anbBWcnPMY-3e4zgncAP')\n"
   ]
  },
  {
   "cell_type": "code",
   "execution_count": null,
   "metadata": {
    "collapsed": true
   },
   "outputs": [],
   "source": [
    "get_sector_level_data('https://finance.google.com/finance?catid=TRBC:50&ei=anbBWcnPMY-3e4zgncAP')\n",
    "\"\"\" Should return\n",
    "\n",
    "[('Hornbeck Offshore', 6.77), ('JinkoSolar Holding Co', -2.96)]\n",
    "\"\"\""
   ]
  },
  {
   "cell_type": "markdown",
   "metadata": {},
   "source": [
    "<h2>Wrapper function</h2>\n",
    "<li>Get the all sector data list by calling get_all_sector_data() \n",
    "<li>sort the list using the absolute value of the change (I've done this for you)\n",
    "<li>extract the sector url for the biggest mover, call get_sector_level_data\n",
    "<li>Get the top gainer and top loser information \n",
    "<li>Construct and return the return_strig\n"
   ]
  },
  {
   "cell_type": "code",
   "execution_count": 5,
   "metadata": {
    "collapsed": true
   },
   "outputs": [],
   "source": [
    "#This function puts it all together\n",
    "def google_sector_report():\n",
    "    try:\n",
    "        all_sector_data = get_all_sector_data()\n",
    "        all_sector_data.sort(key=lambda x: abs(x[2]),reverse=True)\n",
    "        report_string = ''\n",
    "\n",
    "        #Your code goes here\n",
    "        Biggest_sec = all_sector_data[0]\n",
    "        Big_name = Biggest_sec[0]\n",
    "        Big_url = Biggest_sec[1]\n",
    "        Big_change = Biggest_sec[2]\n",
    "        movers_list = get_sector_level_data(Big_url)\n",
    "        get_sector_level_data(Big_url)\n",
    "        report_string = \"The sector with the biggest move is \" + Big_name + \" with a move of \" + str(Big_change) +\"\\nThe top gainer in this sector is \" + movers_list[0][0]+ \" with a move of \" + str(movers_list[0][1]) +\"\\nThe top loser in this sector is \" + movers_list[1][0]+\" with a move of \" + str(movers_list[1][1])\n",
    "        \n",
    "        return report_string\n",
    "    \n",
    "    except:\n",
    "        return None\n",
    "        "
   ]
  },
  {
   "cell_type": "code",
   "execution_count": 6,
   "metadata": {},
   "outputs": [
    {
     "data": {
      "text/plain": [
       "'The sector with the biggest move is Healthcare with a move of 0.94\\nThe top gainer in this sector is Endocyte, Inc. with a move of 157.45\\nThe top loser in this sector is Rockwell Medical Inc with a move of -8.29'"
      ]
     },
     "execution_count": 6,
     "metadata": {},
     "output_type": "execute_result"
    }
   ],
   "source": [
    "google_sector_report()"
   ]
  },
  {
   "cell_type": "code",
   "execution_count": 7,
   "metadata": {},
   "outputs": [
    {
     "name": "stdout",
     "output_type": "stream",
     "text": [
      "The sector with the biggest move is Healthcare with a move of 0.94\n",
      "The top gainer in this sector is Endocyte, Inc. with a move of 157.45\n",
      "The top loser in this sector is Rockwell Medical Inc with a move of -8.29\n"
     ]
    }
   ],
   "source": [
    "print(google_sector_report())"
   ]
  },
  {
   "cell_type": "markdown",
   "metadata": {},
   "source": [
    "<h2>Test it!</h2>"
   ]
  },
  {
   "cell_type": "code",
   "execution_count": null,
   "metadata": {
    "collapsed": true
   },
   "outputs": [],
   "source": [
    "google_sector_report()\n",
    "\"\"\"\n",
    "Should return:\n",
    "\n",
    "'The sector with the biggest move is Energy with a move of 0.53\\nThe top gainer in this sector is Bristow Group Inc with a move of 6.9\\nThe top loser in this sector is JinkoSolar Holding Co with a move of -3.1'\n",
    "\"\"\""
   ]
  },
  {
   "cell_type": "code",
   "execution_count": null,
   "metadata": {
    "collapsed": true
   },
   "outputs": [],
   "source": []
  }
 ],
 "metadata": {
  "kernelspec": {
   "display_name": "Python 3",
   "language": "python",
   "name": "python3"
  },
  "language_info": {
   "codemirror_mode": {
    "name": "ipython",
    "version": 3
   },
   "file_extension": ".py",
   "mimetype": "text/x-python",
   "name": "python",
   "nbconvert_exporter": "python",
   "pygments_lexer": "ipython3",
   "version": "3.6.3"
  },
  "varInspector": {
   "cols": {
    "lenName": 16,
    "lenType": 16,
    "lenVar": 40
   },
   "kernels_config": {
    "python": {
     "delete_cmd_postfix": "",
     "delete_cmd_prefix": "del ",
     "library": "var_list.py",
     "varRefreshCmd": "print(var_dic_list())"
    },
    "r": {
     "delete_cmd_postfix": ") ",
     "delete_cmd_prefix": "rm(",
     "library": "var_list.r",
     "varRefreshCmd": "cat(var_dic_list()) "
    }
   },
   "types_to_exclude": [
    "module",
    "function",
    "builtin_function_or_method",
    "instance",
    "_Feature"
   ],
   "window_display": false
  }
 },
 "nbformat": 4,
 "nbformat_minor": 2
}
